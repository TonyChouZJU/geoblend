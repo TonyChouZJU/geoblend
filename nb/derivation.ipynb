{
 "cells": [
  {
   "cell_type": "code",
   "execution_count": 61,
   "metadata": {
    "collapsed": true
   },
   "outputs": [],
   "source": [
    "import sympy\n",
    "from sympy import init_printing\n",
    "from sympy import MutableDenseMatrix\n",
    "init_printing()\n",
    "\n",
    "# Use IPython's Latex capabilities to avoid a bug in Sympy's matrix printing\n",
    "from IPython.display import display, Math, Latex\n",
    "\n",
    "import numpy as np\n",
    "import pyamg\n",
    "from scipy import sparse\n",
    "from scipy import ndimage\n",
    "from geoblend.coefficient_matrix import create_coefficient_matrix\n",
    "\n",
    "import matplotlib as mpl\n",
    "import matplotlib.pyplot as plt\n",
    "\n",
    "mpl.rcParams['image.interpolation'] = 'none'\n",
    "mpl.rcParams['image.cmap'] = 'cubehelix'\n",
    "\n",
    "%matplotlib inline\n",
    "\n",
    "np.set_printoptions(linewidth=200)"
   ]
  },
  {
   "cell_type": "code",
   "execution_count": 2,
   "metadata": {
    "collapsed": true
   },
   "outputs": [],
   "source": [
    "def display_matrix(m):\n",
    "    \"\"\"\n",
    "    Helper function to display the coefficient\n",
    "    matrix.\n",
    "    \"\"\"\n",
    "    \n",
    "    if type(m) == MutableDenseMatrix:\n",
    "        tex = sympy.latex(m)\n",
    "    elif type(m) == np.ndarray:\n",
    "        tex = sympy.latex(sympy.Matrix(mask.astype(np.int8).tolist()))\n",
    "    else:\n",
    "        # Crazy-ness to get integer represention ...\n",
    "        tex = sympy.latex(sympy.Matrix(m.toarray().astype(np.int8).tolist()))\n",
    "    \n",
    "    display(Math(tex))"
   ]
  },
  {
   "cell_type": "code",
   "execution_count": 3,
   "metadata": {
    "collapsed": true
   },
   "outputs": [],
   "source": [
    "def create_auxiliary_equation(mask):\n",
    "    \"\"\"\n",
    "    Create a sympy representation of the auxiliary equation corresponding\n",
    "    to the Poisson equation.\n",
    "    \n",
    "    This prevents me from tedious, error-proned, hand-written algebra.\n",
    "    \"\"\"\n",
    "    \n",
    "    height, width = mask.shape\n",
    "    x_domain = range(width)\n",
    "    y_domain = range(height)\n",
    "    \n",
    "    # Create symbolic variables representing the unknown image\n",
    "    # and the known gradient that will be imposed on the unknown image.\n",
    "    \n",
    "    # Note: One variable per pixel. f and g are pixel-aligned.\n",
    "    f = [ sympy.symbols(' '.join([ 'f%d%d' % (i, j) for j in y_domain ])) for i in x_domain ]\n",
    "    g = [ sympy.symbols(' '.join([ 'g%d%d' % (i, j) for j in y_domain ])) for i in x_domain ]\n",
    "    c = [ sympy.symbols(' '.join([ 'c%d%d' % (i, j) for j in y_domain ])) for i in x_domain ]\n",
    "    \n",
    "    # Create the variable that will comprise the auxiliary equation.\n",
    "    equation = 0\n",
    "    \n",
    "    for j in y_domain:\n",
    "        for i in x_domain:\n",
    "            \n",
    "            if mask[j][i] == 0:\n",
    "                continue\n",
    "            \n",
    "            #\n",
    "            # Define the index of the 4-connected neighbors\n",
    "            #\n",
    "            \n",
    "            # For a pixel p with indices (i, j), the\n",
    "            # 4-connected neighbors are defined by the\n",
    "            # surrounding 3x3 pixel grid as:\n",
    "            #\n",
    "            # - N - \n",
    "            # W p E\n",
    "            # - S - \n",
    "            \n",
    "            nj, ni = j - 1, i\n",
    "            sj, si = j + 1, i\n",
    "            ej, ei = j, i + 1\n",
    "            wj, wi = j, i - 1\n",
    "            \n",
    "            # TODO: This pays no attention to boundaries. The gradient\n",
    "            #       at the boundary should never be sampled.\n",
    "            if nj in y_domain:\n",
    "                equation += (f[i][j] - f[ni][nj] - g[i][j]) ** 2\n",
    "            if ei in x_domain:\n",
    "                equation += (f[i][j] - f[ei][ej] - g[i][j]) ** 2\n",
    "            if sj in y_domain:\n",
    "                equation += (f[i][j] - f[si][sj] - g[i][j]) ** 2\n",
    "            if wi in x_domain:\n",
    "                equation += (f[i][j] - f[wi][wj] - g[i][j]) ** 2\n",
    "    \n",
    "    return equation, f, g, c"
   ]
  },
  {
   "cell_type": "code",
   "execution_count": 5,
   "metadata": {
    "collapsed": false
   },
   "outputs": [
    {
     "data": {
      "text/plain": [
       "array([[0, 0, 0, 0, 0, 0, 0, 0, 0],\n",
       "       [0, 1, 1, 1, 1, 1, 1, 1, 0],\n",
       "       [0, 1, 1, 1, 1, 1, 1, 1, 0],\n",
       "       [0, 1, 1, 1, 1, 1, 1, 1, 0],\n",
       "       [0, 1, 1, 1, 1, 1, 1, 1, 0],\n",
       "       [0, 0, 0, 0, 0, 0, 0, 0, 0]])"
      ]
     },
     "execution_count": 5,
     "metadata": {},
     "output_type": "execute_result"
    }
   ],
   "source": [
    "mask1 = np.array([\n",
    "    [ 0,  0,  0,  0,  0,  0,  0,  0,  0],\n",
    "    [ 0,  1,  1,  1,  1,  1,  1,  1,  0],\n",
    "    [ 0,  1,  1,  1,  1,  1,  1,  1,  0],\n",
    "    [ 0,  1,  1,  1,  1,  1,  1,  1,  0],\n",
    "    [ 0,  1,  1,  1,  1,  1,  1,  1,  0],\n",
    "    [ 0,  0,  0,  0,  0,  0,  0,  0,  0]\n",
    "])\n",
    "mask1"
   ]
  },
  {
   "cell_type": "code",
   "execution_count": 6,
   "metadata": {
    "collapsed": false
   },
   "outputs": [
    {
     "data": {
      "text/plain": [
       "array([[0, 0, 0, 0, 0, 0, 0, 0, 0],\n",
       "       [0, 0, 1, 1, 1, 0, 0, 0, 0],\n",
       "       [0, 1, 1, 1, 1, 1, 1, 0, 0],\n",
       "       [0, 0, 1, 1, 1, 1, 0, 0, 0],\n",
       "       [0, 0, 0, 1, 1, 1, 0, 0, 0],\n",
       "       [0, 0, 0, 0, 0, 0, 0, 0, 0]])"
      ]
     },
     "execution_count": 6,
     "metadata": {},
     "output_type": "execute_result"
    }
   ],
   "source": [
    "mask2 = np.array([\n",
    "    [0, 0, 0, 0, 0, 0, 0, 0, 0],\n",
    "    [0, 0, 1, 1, 1, 0, 0, 0, 0],\n",
    "    [0, 1, 1, 1, 1, 1, 1, 0, 0],\n",
    "    [0, 0, 1, 1, 1, 1, 0, 0, 0],\n",
    "    [0, 0, 0, 1, 1, 1, 0, 0, 0],\n",
    "    [0, 0, 0, 0, 0, 0, 0, 0, 0]\n",
    "])\n",
    "mask2"
   ]
  },
  {
   "cell_type": "code",
   "execution_count": 7,
   "metadata": {
    "collapsed": true
   },
   "outputs": [],
   "source": [
    "eq1, f1, g1, c1 = create_auxiliary_equation(mask1)\n",
    "eq2, f2, g2, c2 = create_auxiliary_equation(mask2)"
   ]
  },
  {
   "cell_type": "code",
   "execution_count": 8,
   "metadata": {
    "collapsed": false
   },
   "outputs": [
    {
     "data": {
      "image/png": "[encoded data removed]",
      "text/latex": [
       "$$\\left(- f_{01} + f_{11} - g_{11}\\right)^{2} + \\left(- f_{02} + f_{12} - g_{12}\\right)^{2} + \\left(- f_{03} + f_{13} - g_{13}\\right)^{2} + \\left(- f_{04} + f_{14} - g_{14}\\right)^{2} + \\left(- f_{10} + f_{11} - g_{11}\\right)^{2} + \\left(- f_{11} + f_{12} - g_{12}\\right)^{2} + \\left(- f_{11} + f_{21} - g_{21}\\right)^{2} + \\left(f_{11} - f_{12} - g_{11}\\right)^{2} + \\left(f_{11} - f_{21} - g_{11}\\right)^{2} + \\left(- f_{12} + f_{13} - g_{13}\\right)^{2} + \\left(- f_{12} + f_{22} - g_{22}\\right)^{2} + \\left(f_{12} - f_{13} - g_{12}\\right)^{2} + \\left(f_{12} - f_{22} - g_{12}\\right)^{2} + \\left(- f_{13} + f_{14} - g_{14}\\right)^{2} + \\left(- f_{13} + f_{23} - g_{23}\\right)^{2} + \\left(f_{13} - f_{14} - g_{13}\\right)^{2} + \\left(f_{13} - f_{23} - g_{13}\\right)^{2} + \\left(- f_{14} + f_{24} - g_{24}\\right)^{2} + \\left(f_{14} - f_{15} - g_{14}\\right)^{2} + \\left(f_{14} - f_{24} - g_{14}\\right)^{2} + \\left(- f_{20} + f_{21} - g_{21}\\right)^{2} + \\left(- f_{21} + f_{22} - g_{22}\\right)^{2} + \\left(- f_{21} + f_{31} - g_{31}\\right)^{2} + \\left(f_{21} - f_{22} - g_{21}\\right)^{2} + \\left(f_{21} - f_{31} - g_{21}\\right)^{2} + \\left(- f_{22} + f_{23} - g_{23}\\right)^{2} + \\left(- f_{22} + f_{32} - g_{32}\\right)^{2} + \\left(f_{22} - f_{23} - g_{22}\\right)^{2} + \\left(f_{22} - f_{32} - g_{22}\\right)^{2} + \\left(- f_{23} + f_{24} - g_{24}\\right)^{2} + \\left(- f_{23} + f_{33} - g_{33}\\right)^{2} + \\left(f_{23} - f_{24} - g_{23}\\right)^{2} + \\left(f_{23} - f_{33} - g_{23}\\right)^{2} + \\left(- f_{24} + f_{34} - g_{34}\\right)^{2} + \\left(f_{24} - f_{25} - g_{24}\\right)^{2} + \\left(f_{24} - f_{34} - g_{24}\\right)^{2} + \\left(- f_{30} + f_{31} - g_{31}\\right)^{2} + \\left(- f_{31} + f_{32} - g_{32}\\right)^{2} + \\left(- f_{31} + f_{41} - g_{41}\\right)^{2} + \\left(f_{31} - f_{32} - g_{31}\\right)^{2} + \\left(f_{31} - f_{41} - g_{31}\\right)^{2} + \\left(- f_{32} + f_{33} - g_{33}\\right)^{2} + \\left(- f_{32} + f_{42} - g_{42}\\right)^{2} + \\left(f_{32} - f_{33} - g_{32}\\right)^{2} + \\left(f_{32} - f_{42} - g_{32}\\right)^{2} + \\left(- f_{33} + f_{34} - g_{34}\\right)^{2} + \\left(- f_{33} + f_{43} - g_{43}\\right)^{2} + \\left(f_{33} - f_{34} - g_{33}\\right)^{2} + \\left(f_{33} - f_{43} - g_{33}\\right)^{2} + \\left(- f_{34} + f_{44} - g_{44}\\right)^{2} + \\left(f_{34} - f_{35} - g_{34}\\right)^{2} + \\left(f_{34} - f_{44} - g_{34}\\right)^{2} + \\left(- f_{40} + f_{41} - g_{41}\\right)^{2} + \\left(- f_{41} + f_{42} - g_{42}\\right)^{2} + \\left(- f_{41} + f_{51} - g_{51}\\right)^{2} + \\left(f_{41} - f_{42} - g_{41}\\right)^{2} + \\left(f_{41} - f_{51} - g_{41}\\right)^{2} + \\left(- f_{42} + f_{43} - g_{43}\\right)^{2} + \\left(- f_{42} + f_{52} - g_{52}\\right)^{2} + \\left(f_{42} - f_{43} - g_{42}\\right)^{2} + \\left(f_{42} - f_{52} - g_{42}\\right)^{2} + \\left(- f_{43} + f_{44} - g_{44}\\right)^{2} + \\left(- f_{43} + f_{53} - g_{53}\\right)^{2} + \\left(f_{43} - f_{44} - g_{43}\\right)^{2} + \\left(f_{43} - f_{53} - g_{43}\\right)^{2} + \\left(- f_{44} + f_{54} - g_{54}\\right)^{2} + \\left(f_{44} - f_{45} - g_{44}\\right)^{2} + \\left(f_{44} - f_{54} - g_{44}\\right)^{2} + \\left(- f_{50} + f_{51} - g_{51}\\right)^{2} + \\left(- f_{51} + f_{52} - g_{52}\\right)^{2} + \\left(- f_{51} + f_{61} - g_{61}\\right)^{2} + \\left(f_{51} - f_{52} - g_{51}\\right)^{2} + \\left(f_{51} - f_{61} - g_{51}\\right)^{2} + \\left(- f_{52} + f_{53} - g_{53}\\right)^{2} + \\left(- f_{52} + f_{62} - g_{62}\\right)^{2} + \\left(f_{52} - f_{53} - g_{52}\\right)^{2} + \\left(f_{52} - f_{62} - g_{52}\\right)^{2} + \\left(- f_{53} + f_{54} - g_{54}\\right)^{2} + \\left(- f_{53} + f_{63} - g_{63}\\right)^{2} + \\left(f_{53} - f_{54} - g_{53}\\right)^{2} + \\left(f_{53} - f_{63} - g_{53}\\right)^{2} + \\left(- f_{54} + f_{64} - g_{64}\\right)^{2} + \\left(f_{54} - f_{55} - g_{54}\\right)^{2} + \\left(f_{54} - f_{64} - g_{54}\\right)^{2} + \\left(- f_{60} + f_{61} - g_{61}\\right)^{2} + \\left(- f_{61} + f_{62} - g_{62}\\right)^{2} + \\left(- f_{61} + f_{71} - g_{71}\\right)^{2} + \\left(f_{61} - f_{62} - g_{61}\\right)^{2} + \\left(f_{61} - f_{71} - g_{61}\\right)^{2} + \\left(- f_{62} + f_{63} - g_{63}\\right)^{2} + \\left(- f_{62} + f_{72} - g_{72}\\right)^{2} + \\left(f_{62} - f_{63} - g_{62}\\right)^{2} + \\left(f_{62} - f_{72} - g_{62}\\right)^{2} + \\left(- f_{63} + f_{64} - g_{64}\\right)^{2} + \\left(- f_{63} + f_{73} - g_{73}\\right)^{2} + \\left(f_{63} - f_{64} - g_{63}\\right)^{2} + \\left(f_{63} - f_{73} - g_{63}\\right)^{2} + \\left(- f_{64} + f_{74} - g_{74}\\right)^{2} + \\left(f_{64} - f_{65} - g_{64}\\right)^{2} + \\left(f_{64} - f_{74} - g_{64}\\right)^{2} + \\left(- f_{70} + f_{71} - g_{71}\\right)^{2} + \\left(- f_{71} + f_{72} - g_{72}\\right)^{2} + \\left(f_{71} - f_{72} - g_{71}\\right)^{2} + \\left(f_{71} - f_{81} - g_{71}\\right)^{2} + \\left(- f_{72} + f_{73} - g_{73}\\right)^{2} + \\left(f_{72} - f_{73} - g_{72}\\right)^{2} + \\left(f_{72} - f_{82} - g_{72}\\right)^{2} + \\left(- f_{73} + f_{74} - g_{74}\\right)^{2} + \\left(f_{73} - f_{74} - g_{73}\\right)^{2} + \\left(f_{73} - f_{83} - g_{73}\\right)^{2} + \\left(f_{74} - f_{75} - g_{74}\\right)^{2} + \\left(f_{74} - f_{84} - g_{74}\\right)^{2}$$"
      ],
      "text/plain": [
       "                  2                     2                     2               \n",
       "(-f₀₁ + f₁₁ - g₁₁)  + (-f₀₂ + f₁₂ - g₁₂)  + (-f₀₃ + f₁₃ - g₁₃)  + (-f₀₄ + f₁₄ \n",
       "\n",
       "      2                     2                     2                     2     \n",
       "- g₁₄)  + (-f₁₀ + f₁₁ - g₁₁)  + (-f₁₁ + f₁₂ - g₁₂)  + (-f₁₁ + f₂₁ - g₂₁)  + (f\n",
       "\n",
       "               2                    2                     2                   \n",
       "₁₁ - f₁₂ - g₁₁)  + (f₁₁ - f₂₁ - g₁₁)  + (-f₁₂ + f₁₃ - g₁₃)  + (-f₁₂ + f₂₂ - g₂\n",
       "\n",
       "  2                    2                    2                     2           \n",
       "₂)  + (f₁₂ - f₁₃ - g₁₂)  + (f₁₂ - f₂₂ - g₁₂)  + (-f₁₃ + f₁₄ - g₁₄)  + (-f₁₃ + \n",
       "\n",
       "          2                    2                    2                     2   \n",
       "f₂₃ - g₂₃)  + (f₁₃ - f₁₄ - g₁₃)  + (f₁₃ - f₂₃ - g₁₃)  + (-f₁₄ + f₂₄ - g₂₄)  + \n",
       "\n",
       "                 2                    2                     2                 \n",
       "(f₁₄ - f₁₅ - g₁₄)  + (f₁₄ - f₂₄ - g₁₄)  + (-f₂₀ + f₂₁ - g₂₁)  + (-f₂₁ + f₂₂ - \n",
       "\n",
       "    2                     2                    2                    2         \n",
       "g₂₂)  + (-f₂₁ + f₃₁ - g₃₁)  + (f₂₁ - f₂₂ - g₂₁)  + (f₂₁ - f₃₁ - g₂₁)  + (-f₂₂ \n",
       "\n",
       "            2                     2                    2                    2 \n",
       "+ f₂₃ - g₂₃)  + (-f₂₂ + f₃₂ - g₃₂)  + (f₂₂ - f₂₃ - g₂₂)  + (f₂₂ - f₃₂ - g₂₂)  \n",
       "\n",
       "                    2                     2                    2              \n",
       "+ (-f₂₃ + f₂₄ - g₂₄)  + (-f₂₃ + f₃₃ - g₃₃)  + (f₂₃ - f₂₄ - g₂₃)  + (f₂₃ - f₃₃ \n",
       "\n",
       "      2                     2                    2                    2       \n",
       "- g₂₃)  + (-f₂₄ + f₃₄ - g₃₄)  + (f₂₄ - f₂₅ - g₂₄)  + (f₂₄ - f₃₄ - g₂₄)  + (-f₃\n",
       "\n",
       "              2                     2                     2                   \n",
       "₀ + f₃₁ - g₃₁)  + (-f₃₁ + f₃₂ - g₃₂)  + (-f₃₁ + f₄₁ - g₄₁)  + (f₃₁ - f₃₂ - g₃₁\n",
       "\n",
       " 2                    2                     2                     2           \n",
       ")  + (f₃₁ - f₄₁ - g₃₁)  + (-f₃₂ + f₃₃ - g₃₃)  + (-f₃₂ + f₄₂ - g₄₂)  + (f₃₂ - f\n",
       "\n",
       "         2                    2                     2                     2   \n",
       "₃₃ - g₃₂)  + (f₃₂ - f₄₂ - g₃₂)  + (-f₃₃ + f₃₄ - g₃₄)  + (-f₃₃ + f₄₃ - g₄₃)  + \n",
       "\n",
       "                 2                    2                     2                 \n",
       "(f₃₃ - f₃₄ - g₃₃)  + (f₃₃ - f₄₃ - g₃₃)  + (-f₃₄ + f₄₄ - g₄₄)  + (f₃₄ - f₃₅ - g\n",
       "\n",
       "   2                    2                     2                     2         \n",
       "₃₄)  + (f₃₄ - f₄₄ - g₃₄)  + (-f₄₀ + f₄₁ - g₄₁)  + (-f₄₁ + f₄₂ - g₄₂)  + (-f₄₁ \n",
       "\n",
       "            2                    2                    2                     2 \n",
       "+ f₅₁ - g₅₁)  + (f₄₁ - f₄₂ - g₄₁)  + (f₄₁ - f₅₁ - g₄₁)  + (-f₄₂ + f₄₃ - g₄₃)  \n",
       "\n",
       "                    2                    2                    2               \n",
       "+ (-f₄₂ + f₅₂ - g₅₂)  + (f₄₂ - f₄₃ - g₄₂)  + (f₄₂ - f₅₂ - g₄₂)  + (-f₄₃ + f₄₄ \n",
       "\n",
       "      2                     2                    2                    2       \n",
       "- g₄₄)  + (-f₄₃ + f₅₃ - g₅₃)  + (f₄₃ - f₄₄ - g₄₃)  + (f₄₃ - f₅₃ - g₄₃)  + (-f₄\n",
       "\n",
       "              2                    2                    2                     \n",
       "₄ + f₅₄ - g₅₄)  + (f₄₄ - f₄₅ - g₄₄)  + (f₄₄ - f₅₄ - g₄₄)  + (-f₅₀ + f₅₁ - g₅₁)\n",
       "\n",
       "2                     2                     2                    2            \n",
       "  + (-f₅₁ + f₅₂ - g₅₂)  + (-f₅₁ + f₆₁ - g₆₁)  + (f₅₁ - f₅₂ - g₅₁)  + (f₅₁ - f₆\n",
       "\n",
       "        2                     2                     2                    2    \n",
       "₁ - g₅₁)  + (-f₅₂ + f₅₃ - g₅₃)  + (-f₅₂ + f₆₂ - g₆₂)  + (f₅₂ - f₅₃ - g₅₂)  + (\n",
       "\n",
       "                2                     2                     2                 \n",
       "f₅₂ - f₆₂ - g₅₂)  + (-f₅₃ + f₅₄ - g₅₄)  + (-f₅₃ + f₆₃ - g₆₃)  + (f₅₃ - f₅₄ - g\n",
       "\n",
       "   2                    2                     2                    2          \n",
       "₅₃)  + (f₅₃ - f₆₃ - g₅₃)  + (-f₅₄ + f₆₄ - g₆₄)  + (f₅₄ - f₅₅ - g₅₄)  + (f₅₄ - \n",
       "\n",
       "          2                     2                     2                     2 \n",
       "f₆₄ - g₅₄)  + (-f₆₀ + f₆₁ - g₆₁)  + (-f₆₁ + f₆₂ - g₆₂)  + (-f₆₁ + f₇₁ - g₇₁)  \n",
       "\n",
       "                   2                    2                     2               \n",
       "+ (f₆₁ - f₆₂ - g₆₁)  + (f₆₁ - f₇₁ - g₆₁)  + (-f₆₂ + f₆₃ - g₆₃)  + (-f₆₂ + f₇₂ \n",
       "\n",
       "      2                    2                    2                     2       \n",
       "- g₇₂)  + (f₆₂ - f₆₃ - g₆₂)  + (f₆₂ - f₇₂ - g₆₂)  + (-f₆₃ + f₆₄ - g₆₄)  + (-f₆\n",
       "\n",
       "              2                    2                    2                     \n",
       "₃ + f₇₃ - g₇₃)  + (f₆₃ - f₆₄ - g₆₃)  + (f₆₃ - f₇₃ - g₆₃)  + (-f₆₄ + f₇₄ - g₇₄)\n",
       "\n",
       "2                    2                    2                     2             \n",
       "  + (f₆₄ - f₆₅ - g₆₄)  + (f₆₄ - f₇₄ - g₆₄)  + (-f₇₀ + f₇₁ - g₇₁)  + (-f₇₁ + f₇\n",
       "\n",
       "        2                    2                    2                     2     \n",
       "₂ - g₇₂)  + (f₇₁ - f₇₂ - g₇₁)  + (f₇₁ - f₈₁ - g₇₁)  + (-f₇₂ + f₇₃ - g₇₃)  + (f\n",
       "\n",
       "               2                    2                     2                   \n",
       "₇₂ - f₇₃ - g₇₂)  + (f₇₂ - f₈₂ - g₇₂)  + (-f₇₃ + f₇₄ - g₇₄)  + (f₇₃ - f₇₄ - g₇₃\n",
       "\n",
       " 2                    2                    2                    2\n",
       ")  + (f₇₃ - f₈₃ - g₇₃)  + (f₇₄ - f₇₅ - g₇₄)  + (f₇₄ - f₈₄ - g₇₄) "
      ]
     },
     "execution_count": 8,
     "metadata": {},
     "output_type": "execute_result"
    }
   ],
   "source": [
    "eq1"
   ]
  },
  {
   "cell_type": "code",
   "execution_count": 9,
   "metadata": {
    "collapsed": false
   },
   "outputs": [
    {
     "data": {
      "image/png": "[encoded data removed]",
      "text/latex": [
       "$$\\left(- f_{02} + f_{12} - g_{12}\\right)^{2} + \\left(- f_{11} + f_{12} - g_{12}\\right)^{2} + \\left(- f_{11} + f_{21} - g_{21}\\right)^{2} + \\left(- f_{12} + f_{22} - g_{22}\\right)^{2} + \\left(f_{12} - f_{13} - g_{12}\\right)^{2} + \\left(f_{12} - f_{22} - g_{12}\\right)^{2} + \\left(- f_{13} + f_{23} - g_{23}\\right)^{2} + \\left(- f_{20} + f_{21} - g_{21}\\right)^{2} + \\left(- f_{21} + f_{22} - g_{22}\\right)^{2} + \\left(- f_{21} + f_{31} - g_{31}\\right)^{2} + \\left(f_{21} - f_{22} - g_{21}\\right)^{2} + \\left(f_{21} - f_{31} - g_{21}\\right)^{2} + \\left(- f_{22} + f_{23} - g_{23}\\right)^{2} + \\left(- f_{22} + f_{32} - g_{32}\\right)^{2} + \\left(f_{22} - f_{23} - g_{22}\\right)^{2} + \\left(f_{22} - f_{32} - g_{22}\\right)^{2} + \\left(- f_{23} + f_{33} - g_{33}\\right)^{2} + \\left(f_{23} - f_{24} - g_{23}\\right)^{2} + \\left(f_{23} - f_{33} - g_{23}\\right)^{2} + \\left(- f_{24} + f_{34} - g_{34}\\right)^{2} + \\left(- f_{30} + f_{31} - g_{31}\\right)^{2} + \\left(- f_{31} + f_{32} - g_{32}\\right)^{2} + \\left(- f_{31} + f_{41} - g_{41}\\right)^{2} + \\left(f_{31} - f_{32} - g_{31}\\right)^{2} + \\left(f_{31} - f_{41} - g_{31}\\right)^{2} + \\left(- f_{32} + f_{33} - g_{33}\\right)^{2} + \\left(- f_{32} + f_{42} - g_{42}\\right)^{2} + \\left(f_{32} - f_{33} - g_{32}\\right)^{2} + \\left(f_{32} - f_{42} - g_{32}\\right)^{2} + \\left(- f_{33} + f_{34} - g_{34}\\right)^{2} + \\left(- f_{33} + f_{43} - g_{43}\\right)^{2} + \\left(f_{33} - f_{34} - g_{33}\\right)^{2} + \\left(f_{33} - f_{43} - g_{33}\\right)^{2} + \\left(- f_{34} + f_{44} - g_{44}\\right)^{2} + \\left(f_{34} - f_{35} - g_{34}\\right)^{2} + \\left(f_{34} - f_{44} - g_{34}\\right)^{2} + \\left(- f_{40} + f_{41} - g_{41}\\right)^{2} + \\left(- f_{41} + f_{42} - g_{42}\\right)^{2} + \\left(f_{41} - f_{42} - g_{41}\\right)^{2} + \\left(f_{41} - f_{51} - g_{41}\\right)^{2} + \\left(- f_{42} + f_{43} - g_{43}\\right)^{2} + \\left(- f_{42} + f_{52} - g_{52}\\right)^{2} + \\left(f_{42} - f_{43} - g_{42}\\right)^{2} + \\left(f_{42} - f_{52} - g_{42}\\right)^{2} + \\left(- f_{43} + f_{44} - g_{44}\\right)^{2} + \\left(- f_{43} + f_{53} - g_{53}\\right)^{2} + \\left(f_{43} - f_{44} - g_{43}\\right)^{2} + \\left(f_{43} - f_{53} - g_{43}\\right)^{2} + \\left(- f_{44} + f_{54} - g_{54}\\right)^{2} + \\left(f_{44} - f_{45} - g_{44}\\right)^{2} + \\left(f_{44} - f_{54} - g_{44}\\right)^{2} + \\left(- f_{51} + f_{52} - g_{52}\\right)^{2} + \\left(- f_{52} + f_{53} - g_{53}\\right)^{2} + \\left(- f_{52} + f_{62} - g_{62}\\right)^{2} + \\left(f_{52} - f_{53} - g_{52}\\right)^{2} + \\left(f_{52} - f_{62} - g_{52}\\right)^{2} + \\left(- f_{53} + f_{54} - g_{54}\\right)^{2} + \\left(f_{53} - f_{54} - g_{53}\\right)^{2} + \\left(f_{53} - f_{63} - g_{53}\\right)^{2} + \\left(f_{54} - f_{55} - g_{54}\\right)^{2} + \\left(f_{54} - f_{64} - g_{54}\\right)^{2} + \\left(- f_{61} + f_{62} - g_{62}\\right)^{2} + \\left(f_{62} - f_{63} - g_{62}\\right)^{2} + \\left(f_{62} - f_{72} - g_{62}\\right)^{2}$$"
      ],
      "text/plain": [
       "                  2                     2                     2               \n",
       "(-f₀₂ + f₁₂ - g₁₂)  + (-f₁₁ + f₁₂ - g₁₂)  + (-f₁₁ + f₂₁ - g₂₁)  + (-f₁₂ + f₂₂ \n",
       "\n",
       "      2                    2                    2                     2       \n",
       "- g₂₂)  + (f₁₂ - f₁₃ - g₁₂)  + (f₁₂ - f₂₂ - g₁₂)  + (-f₁₃ + f₂₃ - g₂₃)  + (-f₂\n",
       "\n",
       "              2                     2                     2                   \n",
       "₀ + f₂₁ - g₂₁)  + (-f₂₁ + f₂₂ - g₂₂)  + (-f₂₁ + f₃₁ - g₃₁)  + (f₂₁ - f₂₂ - g₂₁\n",
       "\n",
       " 2                    2                     2                     2           \n",
       ")  + (f₂₁ - f₃₁ - g₂₁)  + (-f₂₂ + f₂₃ - g₂₃)  + (-f₂₂ + f₃₂ - g₃₂)  + (f₂₂ - f\n",
       "\n",
       "         2                    2                     2                    2    \n",
       "₂₃ - g₂₂)  + (f₂₂ - f₃₂ - g₂₂)  + (-f₂₃ + f₃₃ - g₃₃)  + (f₂₃ - f₂₄ - g₂₃)  + (\n",
       "\n",
       "                2                     2                     2                 \n",
       "f₂₃ - f₃₃ - g₂₃)  + (-f₂₄ + f₃₄ - g₃₄)  + (-f₃₀ + f₃₁ - g₃₁)  + (-f₃₁ + f₃₂ - \n",
       "\n",
       "    2                     2                    2                    2         \n",
       "g₃₂)  + (-f₃₁ + f₄₁ - g₄₁)  + (f₃₁ - f₃₂ - g₃₁)  + (f₃₁ - f₄₁ - g₃₁)  + (-f₃₂ \n",
       "\n",
       "            2                     2                    2                    2 \n",
       "+ f₃₃ - g₃₃)  + (-f₃₂ + f₄₂ - g₄₂)  + (f₃₂ - f₃₃ - g₃₂)  + (f₃₂ - f₄₂ - g₃₂)  \n",
       "\n",
       "                    2                     2                    2              \n",
       "+ (-f₃₃ + f₃₄ - g₃₄)  + (-f₃₃ + f₄₃ - g₄₃)  + (f₃₃ - f₃₄ - g₃₃)  + (f₃₃ - f₄₃ \n",
       "\n",
       "      2                     2                    2                    2       \n",
       "- g₃₃)  + (-f₃₄ + f₄₄ - g₄₄)  + (f₃₄ - f₃₅ - g₃₄)  + (f₃₄ - f₄₄ - g₃₄)  + (-f₄\n",
       "\n",
       "              2                     2                    2                    \n",
       "₀ + f₄₁ - g₄₁)  + (-f₄₁ + f₄₂ - g₄₂)  + (f₄₁ - f₄₂ - g₄₁)  + (f₄₁ - f₅₁ - g₄₁)\n",
       "\n",
       "2                     2                     2                    2            \n",
       "  + (-f₄₂ + f₄₃ - g₄₃)  + (-f₄₂ + f₅₂ - g₅₂)  + (f₄₂ - f₄₃ - g₄₂)  + (f₄₂ - f₅\n",
       "\n",
       "        2                     2                     2                    2    \n",
       "₂ - g₄₂)  + (-f₄₃ + f₄₄ - g₄₄)  + (-f₄₃ + f₅₃ - g₅₃)  + (f₄₃ - f₄₄ - g₄₃)  + (\n",
       "\n",
       "                2                     2                    2                  \n",
       "f₄₃ - f₅₃ - g₄₃)  + (-f₄₄ + f₅₄ - g₅₄)  + (f₄₄ - f₄₅ - g₄₄)  + (f₄₄ - f₅₄ - g₄\n",
       "\n",
       "  2                     2                     2                     2         \n",
       "₄)  + (-f₅₁ + f₅₂ - g₅₂)  + (-f₅₂ + f₅₃ - g₅₃)  + (-f₅₂ + f₆₂ - g₆₂)  + (f₅₂ -\n",
       "\n",
       "           2                    2                     2                    2  \n",
       " f₅₃ - g₅₂)  + (f₅₂ - f₆₂ - g₅₂)  + (-f₅₃ + f₅₄ - g₅₄)  + (f₅₃ - f₅₄ - g₅₃)  +\n",
       "\n",
       "                  2                    2                    2                 \n",
       " (f₅₃ - f₆₃ - g₅₃)  + (f₅₄ - f₅₅ - g₅₄)  + (f₅₄ - f₆₄ - g₅₄)  + (-f₆₁ + f₆₂ - \n",
       "\n",
       "    2                    2                    2\n",
       "g₆₂)  + (f₆₂ - f₆₃ - g₆₂)  + (f₆₂ - f₇₂ - g₆₂) "
      ]
     },
     "execution_count": 9,
     "metadata": {},
     "output_type": "execute_result"
    }
   ],
   "source": [
    "eq2"
   ]
  },
  {
   "cell_type": "code",
   "execution_count": 14,
   "metadata": {
    "collapsed": true
   },
   "outputs": [],
   "source": [
    "def linearize_system(mask, equation, f):\n",
    "    \n",
    "    indices = np.nonzero(mask)\n",
    "    return [\n",
    "        sympy.diff(equation, f[idx[1]][idx[0]])\n",
    "        for idx in zip(*indices)\n",
    "    ]"
   ]
  },
  {
   "cell_type": "code",
   "execution_count": 17,
   "metadata": {
    "collapsed": false
   },
   "outputs": [],
   "source": [
    "system1 = linearize_system(mask1, eq1, f1)"
   ]
  },
  {
   "cell_type": "code",
   "execution_count": 18,
   "metadata": {
    "collapsed": false
   },
   "outputs": [],
   "source": [
    "system2 = linearize_system(mask2, eq2, f2)"
   ]
  },
  {
   "cell_type": "code",
   "execution_count": 19,
   "metadata": {
    "collapsed": true
   },
   "outputs": [],
   "source": [
    "mat1 = sympy.Matrix(system1)\n",
    "mat2 = sympy.Matrix(system2)"
   ]
  },
  {
   "cell_type": "code",
   "execution_count": 20,
   "metadata": {
    "collapsed": true
   },
   "outputs": [],
   "source": [
    "def get_unknown_vector(mask, f):\n",
    "    \n",
    "    indices = np.nonzero(mask)\n",
    "    return [\n",
    "        f[idx[1]][idx[0]]\n",
    "        for idx in zip(*indices)\n",
    "    ]"
   ]
  },
  {
   "cell_type": "code",
   "execution_count": 21,
   "metadata": {
    "collapsed": true
   },
   "outputs": [],
   "source": [
    "vec1 = get_unknown_vector(mask1, f1)\n",
    "vec2 = get_unknown_vector(mask2, f2)"
   ]
  },
  {
   "cell_type": "code",
   "execution_count": 22,
   "metadata": {
    "collapsed": false
   },
   "outputs": [
    {
     "data": {
      "image/png": "[encoded data removed]",
      "text/latex": [
       "$$\\left [ f_{11}, \\quad f_{21}, \\quad f_{31}, \\quad f_{41}, \\quad f_{51}, \\quad f_{61}, \\quad f_{71}, \\quad f_{12}, \\quad f_{22}, \\quad f_{32}, \\quad f_{42}, \\quad f_{52}, \\quad f_{62}, \\quad f_{72}, \\quad f_{13}, \\quad f_{23}, \\quad f_{33}, \\quad f_{43}, \\quad f_{53}, \\quad f_{63}, \\quad f_{73}, \\quad f_{14}, \\quad f_{24}, \\quad f_{34}, \\quad f_{44}, \\quad f_{54}, \\quad f_{64}, \\quad f_{74}\\right ]$$"
      ],
      "text/plain": [
       "[f₁₁, f₂₁, f₃₁, f₄₁, f₅₁, f₆₁, f₇₁, f₁₂, f₂₂, f₃₂, f₄₂, f₅₂, f₆₂, f₇₂, f₁₃, f₂\n",
       "₃, f₃₃, f₄₃, f₅₃, f₆₃, f₇₃, f₁₄, f₂₄, f₃₄, f₄₄, f₅₄, f₆₄, f₇₄]"
      ]
     },
     "execution_count": 22,
     "metadata": {},
     "output_type": "execute_result"
    }
   ],
   "source": [
    "vec1"
   ]
  },
  {
   "cell_type": "code",
   "execution_count": 23,
   "metadata": {
    "collapsed": false
   },
   "outputs": [
    {
     "data": {
      "image/png": "[encoded data removed]",
      "text/latex": [
       "$$\\left [ f_{21}, \\quad f_{31}, \\quad f_{41}, \\quad f_{12}, \\quad f_{22}, \\quad f_{32}, \\quad f_{42}, \\quad f_{52}, \\quad f_{62}, \\quad f_{23}, \\quad f_{33}, \\quad f_{43}, \\quad f_{53}, \\quad f_{34}, \\quad f_{44}, \\quad f_{54}\\right ]$$"
      ],
      "text/plain": [
       "[f₂₁, f₃₁, f₄₁, f₁₂, f₂₂, f₃₂, f₄₂, f₅₂, f₆₂, f₂₃, f₃₃, f₄₃, f₅₃, f₃₄, f₄₄, f₅\n",
       "₄]"
      ]
     },
     "execution_count": 23,
     "metadata": {},
     "output_type": "execute_result"
    }
   ],
   "source": [
    "vec2"
   ]
  },
  {
   "cell_type": "code",
   "execution_count": 25,
   "metadata": {
    "collapsed": false
   },
   "outputs": [],
   "source": [
    "coeff1 = mat1.jacobian(vec1)\n",
    "coeff2 = mat2.jacobian(vec2)"
   ]
  },
  {
   "cell_type": "code",
   "execution_count": 26,
   "metadata": {
    "collapsed": false
   },
   "outputs": [
    {
     "data": {
      "text/latex": [
       "$$\\left[\\begin{array}{cccccccccccccccccccccccccccc}12 & -4 & 0 & 0 & 0 & 0 & 0 & -4 & 0 & 0 & 0 & 0 & 0 & 0 & 0 & 0 & 0 & 0 & 0 & 0 & 0 & 0 & 0 & 0 & 0 & 0 & 0 & 0\\\\-4 & 14 & -4 & 0 & 0 & 0 & 0 & 0 & -4 & 0 & 0 & 0 & 0 & 0 & 0 & 0 & 0 & 0 & 0 & 0 & 0 & 0 & 0 & 0 & 0 & 0 & 0 & 0\\\\0 & -4 & 14 & -4 & 0 & 0 & 0 & 0 & 0 & -4 & 0 & 0 & 0 & 0 & 0 & 0 & 0 & 0 & 0 & 0 & 0 & 0 & 0 & 0 & 0 & 0 & 0 & 0\\\\0 & 0 & -4 & 14 & -4 & 0 & 0 & 0 & 0 & 0 & -4 & 0 & 0 & 0 & 0 & 0 & 0 & 0 & 0 & 0 & 0 & 0 & 0 & 0 & 0 & 0 & 0 & 0\\\\0 & 0 & 0 & -4 & 14 & -4 & 0 & 0 & 0 & 0 & 0 & -4 & 0 & 0 & 0 & 0 & 0 & 0 & 0 & 0 & 0 & 0 & 0 & 0 & 0 & 0 & 0 & 0\\\\0 & 0 & 0 & 0 & -4 & 14 & -4 & 0 & 0 & 0 & 0 & 0 & -4 & 0 & 0 & 0 & 0 & 0 & 0 & 0 & 0 & 0 & 0 & 0 & 0 & 0 & 0 & 0\\\\0 & 0 & 0 & 0 & 0 & -4 & 12 & 0 & 0 & 0 & 0 & 0 & 0 & -4 & 0 & 0 & 0 & 0 & 0 & 0 & 0 & 0 & 0 & 0 & 0 & 0 & 0 & 0\\\\-4 & 0 & 0 & 0 & 0 & 0 & 0 & 14 & -4 & 0 & 0 & 0 & 0 & 0 & -4 & 0 & 0 & 0 & 0 & 0 & 0 & 0 & 0 & 0 & 0 & 0 & 0 & 0\\\\0 & -4 & 0 & 0 & 0 & 0 & 0 & -4 & 16 & -4 & 0 & 0 & 0 & 0 & 0 & -4 & 0 & 0 & 0 & 0 & 0 & 0 & 0 & 0 & 0 & 0 & 0 & 0\\\\0 & 0 & -4 & 0 & 0 & 0 & 0 & 0 & -4 & 16 & -4 & 0 & 0 & 0 & 0 & 0 & -4 & 0 & 0 & 0 & 0 & 0 & 0 & 0 & 0 & 0 & 0 & 0\\\\0 & 0 & 0 & -4 & 0 & 0 & 0 & 0 & 0 & -4 & 16 & -4 & 0 & 0 & 0 & 0 & 0 & -4 & 0 & 0 & 0 & 0 & 0 & 0 & 0 & 0 & 0 & 0\\\\0 & 0 & 0 & 0 & -4 & 0 & 0 & 0 & 0 & 0 & -4 & 16 & -4 & 0 & 0 & 0 & 0 & 0 & -4 & 0 & 0 & 0 & 0 & 0 & 0 & 0 & 0 & 0\\\\0 & 0 & 0 & 0 & 0 & -4 & 0 & 0 & 0 & 0 & 0 & -4 & 16 & -4 & 0 & 0 & 0 & 0 & 0 & -4 & 0 & 0 & 0 & 0 & 0 & 0 & 0 & 0\\\\0 & 0 & 0 & 0 & 0 & 0 & -4 & 0 & 0 & 0 & 0 & 0 & -4 & 14 & 0 & 0 & 0 & 0 & 0 & 0 & -4 & 0 & 0 & 0 & 0 & 0 & 0 & 0\\\\0 & 0 & 0 & 0 & 0 & 0 & 0 & -4 & 0 & 0 & 0 & 0 & 0 & 0 & 14 & -4 & 0 & 0 & 0 & 0 & 0 & -4 & 0 & 0 & 0 & 0 & 0 & 0\\\\0 & 0 & 0 & 0 & 0 & 0 & 0 & 0 & -4 & 0 & 0 & 0 & 0 & 0 & -4 & 16 & -4 & 0 & 0 & 0 & 0 & 0 & -4 & 0 & 0 & 0 & 0 & 0\\\\0 & 0 & 0 & 0 & 0 & 0 & 0 & 0 & 0 & -4 & 0 & 0 & 0 & 0 & 0 & -4 & 16 & -4 & 0 & 0 & 0 & 0 & 0 & -4 & 0 & 0 & 0 & 0\\\\0 & 0 & 0 & 0 & 0 & 0 & 0 & 0 & 0 & 0 & -4 & 0 & 0 & 0 & 0 & 0 & -4 & 16 & -4 & 0 & 0 & 0 & 0 & 0 & -4 & 0 & 0 & 0\\\\0 & 0 & 0 & 0 & 0 & 0 & 0 & 0 & 0 & 0 & 0 & -4 & 0 & 0 & 0 & 0 & 0 & -4 & 16 & -4 & 0 & 0 & 0 & 0 & 0 & -4 & 0 & 0\\\\0 & 0 & 0 & 0 & 0 & 0 & 0 & 0 & 0 & 0 & 0 & 0 & -4 & 0 & 0 & 0 & 0 & 0 & -4 & 16 & -4 & 0 & 0 & 0 & 0 & 0 & -4 & 0\\\\0 & 0 & 0 & 0 & 0 & 0 & 0 & 0 & 0 & 0 & 0 & 0 & 0 & -4 & 0 & 0 & 0 & 0 & 0 & -4 & 14 & 0 & 0 & 0 & 0 & 0 & 0 & -4\\\\0 & 0 & 0 & 0 & 0 & 0 & 0 & 0 & 0 & 0 & 0 & 0 & 0 & 0 & -4 & 0 & 0 & 0 & 0 & 0 & 0 & 12 & -4 & 0 & 0 & 0 & 0 & 0\\\\0 & 0 & 0 & 0 & 0 & 0 & 0 & 0 & 0 & 0 & 0 & 0 & 0 & 0 & 0 & -4 & 0 & 0 & 0 & 0 & 0 & -4 & 14 & -4 & 0 & 0 & 0 & 0\\\\0 & 0 & 0 & 0 & 0 & 0 & 0 & 0 & 0 & 0 & 0 & 0 & 0 & 0 & 0 & 0 & -4 & 0 & 0 & 0 & 0 & 0 & -4 & 14 & -4 & 0 & 0 & 0\\\\0 & 0 & 0 & 0 & 0 & 0 & 0 & 0 & 0 & 0 & 0 & 0 & 0 & 0 & 0 & 0 & 0 & -4 & 0 & 0 & 0 & 0 & 0 & -4 & 14 & -4 & 0 & 0\\\\0 & 0 & 0 & 0 & 0 & 0 & 0 & 0 & 0 & 0 & 0 & 0 & 0 & 0 & 0 & 0 & 0 & 0 & -4 & 0 & 0 & 0 & 0 & 0 & -4 & 14 & -4 & 0\\\\0 & 0 & 0 & 0 & 0 & 0 & 0 & 0 & 0 & 0 & 0 & 0 & 0 & 0 & 0 & 0 & 0 & 0 & 0 & -4 & 0 & 0 & 0 & 0 & 0 & -4 & 14 & -4\\\\0 & 0 & 0 & 0 & 0 & 0 & 0 & 0 & 0 & 0 & 0 & 0 & 0 & 0 & 0 & 0 & 0 & 0 & 0 & 0 & -4 & 0 & 0 & 0 & 0 & 0 & -4 & 12\\end{array}\\right]$$"
      ],
      "text/plain": [
       "<IPython.core.display.Math object>"
      ]
     },
     "metadata": {},
     "output_type": "display_data"
    }
   ],
   "source": [
    "display_matrix(coeff1)"
   ]
  },
  {
   "cell_type": "code",
   "execution_count": 27,
   "metadata": {
    "collapsed": false
   },
   "outputs": [
    {
     "data": {
      "text/latex": [
       "$$\\left[\\begin{array}{cccccccccccccccc}12 & -4 & 0 & 0 & -4 & 0 & 0 & 0 & 0 & 0 & 0 & 0 & 0 & 0 & 0 & 0\\\\-4 & 14 & -4 & 0 & 0 & -4 & 0 & 0 & 0 & 0 & 0 & 0 & 0 & 0 & 0 & 0\\\\0 & -4 & 12 & 0 & 0 & 0 & -4 & 0 & 0 & 0 & 0 & 0 & 0 & 0 & 0 & 0\\\\0 & 0 & 0 & 10 & -4 & 0 & 0 & 0 & 0 & 0 & 0 & 0 & 0 & 0 & 0 & 0\\\\-4 & 0 & 0 & -4 & 16 & -4 & 0 & 0 & 0 & -4 & 0 & 0 & 0 & 0 & 0 & 0\\\\0 & -4 & 0 & 0 & -4 & 16 & -4 & 0 & 0 & 0 & -4 & 0 & 0 & 0 & 0 & 0\\\\0 & 0 & -4 & 0 & 0 & -4 & 16 & -4 & 0 & 0 & 0 & -4 & 0 & 0 & 0 & 0\\\\0 & 0 & 0 & 0 & 0 & 0 & -4 & 14 & -4 & 0 & 0 & 0 & -4 & 0 & 0 & 0\\\\0 & 0 & 0 & 0 & 0 & 0 & 0 & -4 & 10 & 0 & 0 & 0 & 0 & 0 & 0 & 0\\\\0 & 0 & 0 & 0 & -4 & 0 & 0 & 0 & 0 & 12 & -4 & 0 & 0 & 0 & 0 & 0\\\\0 & 0 & 0 & 0 & 0 & -4 & 0 & 0 & 0 & -4 & 16 & -4 & 0 & -4 & 0 & 0\\\\0 & 0 & 0 & 0 & 0 & 0 & -4 & 0 & 0 & 0 & -4 & 16 & -4 & 0 & -4 & 0\\\\0 & 0 & 0 & 0 & 0 & 0 & 0 & -4 & 0 & 0 & 0 & -4 & 14 & 0 & 0 & -4\\\\0 & 0 & 0 & 0 & 0 & 0 & 0 & 0 & 0 & 0 & -4 & 0 & 0 & 12 & -4 & 0\\\\0 & 0 & 0 & 0 & 0 & 0 & 0 & 0 & 0 & 0 & 0 & -4 & 0 & -4 & 14 & -4\\\\0 & 0 & 0 & 0 & 0 & 0 & 0 & 0 & 0 & 0 & 0 & 0 & -4 & 0 & -4 & 12\\end{array}\\right]$$"
      ],
      "text/plain": [
       "<IPython.core.display.Math object>"
      ]
     },
     "metadata": {},
     "output_type": "display_data"
    }
   ],
   "source": [
    "display_matrix(coeff2)"
   ]
  },
  {
   "cell_type": "markdown",
   "metadata": {},
   "source": [
    "### Sample data"
   ]
  },
  {
   "cell_type": "code",
   "execution_count": 31,
   "metadata": {
    "collapsed": true
   },
   "outputs": [],
   "source": [
    "source = np.array([\n",
    "    [459, 516, 579, 595, 622, 575, 564, 607, 627],\n",
    "    [451, 509, 540, 561, 528, 515, 537, 621, 614],\n",
    "    [489, 537, 574, 587, 497, 484, 491, 540, 532],\n",
    "    [543, 683, 650, 620, 546, 513, 521, 522, 549],\n",
    "    [557, 656, 666, 628, 576, 570, 571, 545, 546],\n",
    "    [623, 742, 683, 610, 616, 566, 558, 516, 501]\n",
    "], dtype=np.uint16)\n",
    "\n",
    "reference = np.array([\n",
    "    [555, 555, 514, 514, 514, 514, 479, 479, 479],\n",
    "    [555, 555, 514, 514, 514, 514, 479, 479, 479],\n",
    "    [555, 555, 514, 514, 514, 514, 479, 479, 479],\n",
    "    [504, 504, 472, 472, 472, 472, 458, 458, 458],\n",
    "    [504, 504, 472, 472, 472, 472, 458, 458, 458],\n",
    "    [504, 504, 472, 472, 472, 472, 458, 458, 458]\n",
    "], dtype=np.uint16)\n",
    "\n",
    "field = np.array([\n",
    "    [869,  517,  665,  618,  790,  599,  537,  616, 1287],\n",
    "    [347,   -8,  -63,   -6,  -83,  -64,  -43,  186,  676],\n",
    "    [425, -107,  -18,   96, -157,  -80, -118,   -6,  425],\n",
    "    [443,  346,   57,   69,  -22,  -69,  -13,  -67,  596],\n",
    "    [406,  -24,   47,   40,  -56,   54,   90,   25,  589],\n",
    "    [1193, 1006,  714,  513,  712,  520,  579,  460,  942]\n",
    "], dtype=np.int32)"
   ]
  },
  {
   "cell_type": "code",
   "execution_count": 33,
   "metadata": {
    "collapsed": false
   },
   "outputs": [],
   "source": [
    "def get_boundary_mask(mask):\n",
    "\n",
    "    selem = np.array([\n",
    "        [0, 1, 0],\n",
    "        [1, -4, 1],\n",
    "        [0, 1, 0]\n",
    "    ])\n",
    "    b = ndimage.convolve(mask, selem, mode='constant', cval=0)\n",
    "    b[b < 0] = 0\n",
    "    return b"
   ]
  },
  {
   "cell_type": "code",
   "execution_count": 34,
   "metadata": {
    "collapsed": false
   },
   "outputs": [
    {
     "data": {
      "text/plain": [
       "array([[0, 1, 1, 1, 1, 1, 1, 1, 0],\n",
       "       [1, 0, 0, 0, 0, 0, 0, 0, 1],\n",
       "       [1, 0, 0, 0, 0, 0, 0, 0, 1],\n",
       "       [1, 0, 0, 0, 0, 0, 0, 0, 1],\n",
       "       [1, 0, 0, 0, 0, 0, 0, 0, 1],\n",
       "       [0, 1, 1, 1, 1, 1, 1, 1, 0]])"
      ]
     },
     "execution_count": 34,
     "metadata": {},
     "output_type": "execute_result"
    }
   ],
   "source": [
    "get_boundary_mask(mask1)"
   ]
  },
  {
   "cell_type": "code",
   "execution_count": 35,
   "metadata": {
    "collapsed": false
   },
   "outputs": [
    {
     "data": {
      "text/plain": [
       "array([[0, 0, 1, 1, 1, 0, 0, 0, 0],\n",
       "       [0, 2, 0, 0, 0, 2, 1, 0, 0],\n",
       "       [1, 0, 0, 0, 0, 0, 0, 1, 0],\n",
       "       [0, 2, 0, 0, 0, 0, 2, 0, 0],\n",
       "       [0, 0, 2, 0, 0, 0, 1, 0, 0],\n",
       "       [0, 0, 0, 1, 1, 1, 0, 0, 0]])"
      ]
     },
     "execution_count": 35,
     "metadata": {},
     "output_type": "execute_result"
    }
   ],
   "source": [
    "get_boundary_mask(mask2)"
   ]
  },
  {
   "cell_type": "code",
   "execution_count": 39,
   "metadata": {
    "collapsed": true
   },
   "outputs": [],
   "source": [
    "def get_replacements(mask, f, g, reference, field):\n",
    "    \n",
    "    # Replace boundaries with values from the reference image\n",
    "    boundary = get_boundary_mask(mask)\n",
    "    bindices = np.nonzero(boundary)\n",
    "    \n",
    "    boundary_replacements = [\n",
    "        (f[idx[1]][idx[0]], reference[idx])\n",
    "        for idx in zip(*bindices)\n",
    "    ]\n",
    "    \n",
    "    indices = np.nonzero(mask)\n",
    "    \n",
    "    field_replacements = [\n",
    "        (g[idx[1]][idx[0]], field[idx])\n",
    "        for idx in zip(*indices)\n",
    "    ]\n",
    "    \n",
    "    return boundary_replacements + field_replacements"
   ]
  },
  {
   "cell_type": "code",
   "execution_count": 41,
   "metadata": {
    "collapsed": false
   },
   "outputs": [],
   "source": [
    "replacements1 = get_replacements(mask1, f1, g1, reference, field)\n",
    "replacements2 = get_replacements(mask2, f2, g2, reference, field)"
   ]
  },
  {
   "cell_type": "code",
   "execution_count": 43,
   "metadata": {
    "collapsed": false
   },
   "outputs": [
    {
     "data": {
      "text/latex": [
       "$$\\left[\\begin{matrix}12 f_{11} - 4 f_{12} - 4 f_{21} - 2496.0\\\\- 4 f_{11} + 14 f_{21} - 4 f_{22} - 4 f_{31} - 588.0\\\\- 4 f_{21} + 14 f_{31} - 4 f_{32} - 4 f_{41} - 1080.0\\\\- 4 f_{31} + 14 f_{41} - 4 f_{42} - 4 f_{51} - 818.0\\\\- 4 f_{41} + 14 f_{51} - 4 f_{52} - 4 f_{61} - 928.0\\\\- 4 f_{51} + 14 f_{61} - 4 f_{62} - 4 f_{71} - 606.0\\\\- 4 f_{61} + 12 f_{71} - 4 f_{72} - 3502.0\\\\- 4 f_{11} + 14 f_{12} - 4 f_{13} - 4 f_{22} + 386.0\\\\- 4 f_{12} - 4 f_{21} + 16 f_{22} - 4 f_{23} - 4 f_{32} + 110.0\\\\- 4 f_{22} - 4 f_{31} + 16 f_{32} - 4 f_{33} - 4 f_{42} - 992.0\\\\- 4 f_{32} - 4 f_{41} + 16 f_{42} - 4 f_{43} - 4 f_{52} + 1078.0\\\\- 4 f_{42} - 4 f_{51} + 16 f_{52} - 4 f_{53} - 4 f_{62} - 176.0\\\\- 4 f_{52} - 4 f_{61} + 16 f_{62} - 4 f_{63} - 4 f_{72} + 660.0\\\\- 4 f_{62} - 4 f_{71} + 14 f_{72} - 4 f_{73} - 908.0\\\\- 4 f_{12} + 14 f_{13} - 4 f_{14} - 4 f_{23} - 3924.0\\\\- 4 f_{13} - 4 f_{22} + 16 f_{23} - 4 f_{24} - 4 f_{33} + 432.0\\\\- 4 f_{23} - 4 f_{32} + 16 f_{33} - 4 f_{34} - 4 f_{43} - 210.0\\\\- 4 f_{33} - 4 f_{42} + 16 f_{43} - 4 f_{44} - 4 f_{53} - 250.0\\\\- 4 f_{43} - 4 f_{52} + 16 f_{53} - 4 f_{54} - 4 f_{63} + 430.0\\\\- 4 f_{53} - 4 f_{62} + 16 f_{63} - 4 f_{64} - 4 f_{73} - 224.0\\\\- 4 f_{63} - 4 f_{72} + 14 f_{73} - 4 f_{74} - 368.0\\\\- 4 f_{13} + 12 f_{14} - 4 f_{24} - 1038.0\\\\- 4 f_{14} - 4 f_{23} + 14 f_{24} - 4 f_{34} - 1174.0\\\\- 4 f_{24} - 4 f_{33} + 14 f_{34} - 4 f_{44} - 1144.0\\\\- 4 f_{34} - 4 f_{43} + 14 f_{44} - 4 f_{54} - 352.0\\\\- 4 f_{44} - 4 f_{53} + 14 f_{54} - 4 f_{64} - 1446.0\\\\- 4 f_{54} - 4 f_{63} + 14 f_{64} - 4 f_{74} - 1504.0\\\\- 4 f_{64} - 4 f_{73} + 12 f_{74} - 1986.0\\end{matrix}\\right]$$"
      ],
      "text/plain": [
       "<IPython.core.display.Math object>"
      ]
     },
     "metadata": {},
     "output_type": "display_data"
    }
   ],
   "source": [
    "display_matrix(mat1.subs(replacements1))"
   ]
  },
  {
   "cell_type": "code",
   "execution_count": 44,
   "metadata": {
    "collapsed": false
   },
   "outputs": [
    {
     "data": {
      "text/latex": [
       "$$\\left[\\begin{matrix}12 f_{21} - 4 f_{22} - 4 f_{31} - 1682.0\\\\- 4 f_{21} + 14 f_{31} - 4 f_{32} - 4 f_{41} - 1080.0\\\\- 4 f_{31} + 12 f_{41} - 4 f_{42} - 1718.0\\\\10 f_{12} - 4 f_{22} - 2408.0\\\\- 4 f_{12} - 4 f_{21} + 16 f_{22} - 4 f_{23} - 4 f_{32} + 110.0\\\\- 4 f_{22} - 4 f_{31} + 16 f_{32} - 4 f_{33} - 4 f_{42} - 992.0\\\\- 4 f_{32} - 4 f_{41} + 16 f_{42} - 4 f_{43} - 4 f_{52} + 1078.0\\\\- 4 f_{42} + 14 f_{52} - 4 f_{53} - 4 f_{62} - 1076.0\\\\- 4 f_{52} + 10 f_{62} - 2048.0\\\\- 4 f_{22} + 12 f_{23} - 4 f_{33} - 2306.0\\\\- 4 f_{23} - 4 f_{32} + 16 f_{33} - 4 f_{34} - 4 f_{43} - 210.0\\\\- 4 f_{33} - 4 f_{42} + 16 f_{43} - 4 f_{44} - 4 f_{53} - 250.0\\\\- 4 f_{43} - 4 f_{52} + 14 f_{53} - 4 f_{54} - 460.0\\\\- 4 f_{33} + 12 f_{34} - 4 f_{44} - 2182.0\\\\- 4 f_{34} - 4 f_{43} + 14 f_{44} - 4 f_{54} - 352.0\\\\- 4 f_{44} - 4 f_{53} + 12 f_{54} - 2542.0\\end{matrix}\\right]$$"
      ],
      "text/plain": [
       "<IPython.core.display.Math object>"
      ]
     },
     "metadata": {},
     "output_type": "display_data"
    }
   ],
   "source": [
    "display_matrix(mat2.subs(replacements2))"
   ]
  },
  {
   "cell_type": "code",
   "execution_count": 48,
   "metadata": {
    "collapsed": false
   },
   "outputs": [],
   "source": [
    "x1 = sympy.solve(mat1.subs(replacements1))\n",
    "x2 = sympy.solve(mat2.subs(replacements2))"
   ]
  },
  {
   "cell_type": "code",
   "execution_count": 55,
   "metadata": {
    "collapsed": false
   },
   "outputs": [
    {
     "data": {
      "image/png": "[encoded data removed]",
      "text/latex": [
       "$$\\left [ f_{51}, \\quad f_{71}, \\quad f_{33}, \\quad f_{44}, \\quad f_{64}, \\quad f_{32}, \\quad f_{22}, \\quad f_{13}, \\quad f_{23}, \\quad f_{54}, \\quad f_{12}, \\quad f_{24}, \\quad f_{14}, \\quad f_{41}, \\quad f_{73}, \\quad f_{72}, \\quad f_{74}, \\quad f_{62}, \\quad f_{34}, \\quad f_{53}, \\quad f_{63}, \\quad f_{11}, \\quad f_{21}, \\quad f_{52}, \\quad f_{31}, \\quad f_{42}, \\quad f_{43}, \\quad f_{61}\\right ]$$"
      ],
      "text/plain": [
       "[f₅₁, f₇₁, f₃₃, f₄₄, f₆₄, f₃₂, f₂₂, f₁₃, f₂₃, f₅₄, f₁₂, f₂₄, f₁₄, f₄₁, f₇₃, f₇\n",
       "₂, f₇₄, f₆₂, f₃₄, f₅₃, f₆₃, f₁₁, f₂₁, f₅₂, f₃₁, f₄₂, f₄₃, f₆₁]"
      ]
     },
     "execution_count": 55,
     "metadata": {},
     "output_type": "execute_result"
    }
   ],
   "source": [
    "x1.keys()"
   ]
  },
  {
   "cell_type": "code",
   "execution_count": 57,
   "metadata": {
    "collapsed": false
   },
   "outputs": [
    {
     "data": {
      "image/png": "[encoded data removed]",
      "text/latex": [
       "$$460.678516785831$$"
      ],
      "text/plain": [
       "460.678516785831"
      ]
     },
     "execution_count": 57,
     "metadata": {},
     "output_type": "execute_result"
    }
   ],
   "source": [
    "x1[f1[5][1]]"
   ]
  },
  {
   "cell_type": "code",
   "execution_count": 58,
   "metadata": {
    "collapsed": true
   },
   "outputs": [],
   "source": [
    "def apply_blended_pixels(x, reference, f):\n",
    "    img = np.copy(reference)\n",
    "    \n",
    "    height, width = reference.shape\n",
    "    \n",
    "    for j in range(height):\n",
    "        for i in range(width):\n",
    "            if x.has_key(f[i][j]):\n",
    "                img[j][i] = x[f[i][j]]\n",
    "    \n",
    "    return img"
   ]
  },
  {
   "cell_type": "code",
   "execution_count": 65,
   "metadata": {
    "collapsed": false
   },
   "outputs": [],
   "source": [
    "img1 = apply_blended_pixels(x1, reference, f1)\n",
    "img2 = apply_blended_pixels(x2, reference, f2)"
   ]
  },
  {
   "cell_type": "code",
   "execution_count": 69,
   "metadata": {
    "collapsed": false
   },
   "outputs": [
    {
     "data": {
      "text/plain": [
       "<matplotlib.image.AxesImage at 0x10f778a90>"
      ]
     },
     "execution_count": 69,
     "metadata": {},
     "output_type": "execute_result"
    },
    {
     "data": {
      "image/png": "[encoded data removed]",
      "text/plain": [
       "<matplotlib.figure.Figure at 0x10ebbd810>"
      ]
     },
     "metadata": {},
     "output_type": "display_data"
    }
   ],
   "source": [
    "f, (ax1, ax2) = plt.subplots(1, 2, sharex=True, sharey=True, figsize=(12, 4))\n",
    "ax1.imshow(img1, vmin=300, vmax=750)\n",
    "ax2.imshow(img2, vmin=300, vmax=750)"
   ]
  },
  {
   "cell_type": "code",
   "execution_count": 70,
   "metadata": {
    "collapsed": false
   },
   "outputs": [
    {
     "name": "stdout",
     "output_type": "stream",
     "text": [
      "[[555 555 514 514 514 514 479 479 479]\n",
      " [555 524 479 501 452 460 474 613 479]\n",
      " [555 470 505 552 418 453 433 491 479]\n",
      " [504 713 544 538 483 457 481 444 458]\n",
      " [504 501 530 518 459 517 533 491 458]\n",
      " [504 504 472 472 472 472 458 458 458]]\n"
     ]
    }
   ],
   "source": [
    "print img1"
   ]
  },
  {
   "cell_type": "code",
   "execution_count": 71,
   "metadata": {
    "collapsed": false
   },
   "outputs": [
    {
     "name": "stdout",
     "output_type": "stream",
     "text": [
      "[[555 555 514 514 514 514 479 479 479]\n",
      " [555 555 462 486 437 514 479 479 479]\n",
      " [555 433 481 532 395 418 372 479 479]\n",
      " [504 504 525 519 462 428 458 458 458]\n",
      " [504 504 472 503 444 502 458 458 458]\n",
      " [504 504 472 472 472 472 458 458 458]]\n"
     ]
    }
   ],
   "source": [
    "print img2"
   ]
  },
  {
   "cell_type": "code",
   "execution_count": null,
   "metadata": {
    "collapsed": true
   },
   "outputs": [],
   "source": []
  }
 ],
 "metadata": {
  "kernelspec": {
   "display_name": "Python 2",
   "language": "python",
   "name": "python2"
  },
  "language_info": {
   "codemirror_mode": {
    "name": "ipython",
    "version": 2
   },
   "file_extension": ".py",
   "mimetype": "text/x-python",
   "name": "python",
   "nbconvert_exporter": "python",
   "pygments_lexer": "ipython2",
   "version": "2.7.10"
  }
 },
 "nbformat": 4,
 "nbformat_minor": 0
}
